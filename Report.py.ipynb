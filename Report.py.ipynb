{
 "cells": [
  {
   "cell_type": "code",
   "execution_count": 7,
   "id": "a554ed64",
   "metadata": {},
   "outputs": [
    {
     "name": "stdout",
     "output_type": "stream",
     "text": [
      "       Balance   Income  Limit  Rating  Cards  Age  Education  Gender Student  \\\n",
      "0    12.240798   14.891   3606     283      2   34         11    Male      No   \n",
      "1    23.283334  106.025   6645     483      3   82         15  Female     Yes   \n",
      "2    22.530409  104.593   7075     514      4   71         11    Male      No   \n",
      "3    27.652811  148.924   9504     681      3   36         11  Female      No   \n",
      "4    16.893978   55.882   4897     357      2   68         16    Male      No   \n",
      "..         ...      ...    ...     ...    ...  ...        ...     ...     ...   \n",
      "395   8.764984   12.096   4100     307      3   32         13    Male      No   \n",
      "396   9.943838   13.364   3838     296      5   65         17    Male      No   \n",
      "397  14.882078   57.872   4171     321      5   67         12  Female      No   \n",
      "398  12.001071   37.728   2525     192      1   44         13    Male      No   \n",
      "399  10.159598   18.701   5524     415      5   64          7  Female      No   \n",
      "\n",
      "    Married         Ethnicity  \n",
      "0       Yes         Caucasian  \n",
      "1       Yes             Asian  \n",
      "2        No             Asian  \n",
      "3        No             Asian  \n",
      "4       Yes         Caucasian  \n",
      "..      ...               ...  \n",
      "395     Yes         Caucasian  \n",
      "396      No  African American  \n",
      "397     Yes         Caucasian  \n",
      "398     Yes         Caucasian  \n",
      "399      No             Asian  \n",
      "\n",
      "[400 rows x 11 columns]\n",
      "The average income of a African American is  47.68210101010099\n",
      "The average income of a Caucasian is  44.521944723618084\n",
      "The average income of a Asian is  44.18783333333334\n",
      "\n",
      "The average Balance of a Married person is  13.388473477498913\n",
      "The average Balance of a Single person is  13.493509015134242\n",
      "On Average single people have a higher balance @ 13.493509015134242\n",
      "\n",
      "The Highest income in our dataset is  186.634\n",
      "The Lowest income in our dataset is  10.354\n",
      "\n",
      "The number of cards recorded in our dataset is  1183\n",
      "\n",
      "The number of females recorded in our dataset is  207\n",
      "Number of males in the Dataset is 193\n"
     ]
    }
   ],
   "source": [
    "import pandas as pd\n",
    "\n",
    "# Read data stored in 'balance,txt into a  DataFrame\n",
    "df = pd.read_csv('balance.txt', delim_whitespace=True)\n",
    "print(df)\n",
    "\n",
    "# Comparing the average income based on ethnicity\n",
    "# You can use two methods, the first works on selecting a table based on ethnicity then finds the mean\n",
    "# income_average = df[df.Ethnicity == 'African American']\n",
    "# print(f\"The average income of a African American is {income_average.Income.mean()}\")  # mean = 47.682101\n",
    "\n",
    "print(\"The average income of a African American is \", df[df.Ethnicity == 'African American'].loc[:, \"Income\"].mean())\n",
    "print(\"The average income of a Caucasian is \", df[df.Ethnicity == 'Caucasian'].loc[:, \"Income\"].mean())\n",
    "print(\"The average income of a Asian is \", df[df.Ethnicity == 'Asian'].loc[:, \"Income\"].mean())\n",
    "\n",
    "# Comparing balance average between married or single people\n",
    "print(\"\\nThe average Balance of a Married person is \", df[df.Married == 'Yes'].loc[:, \"Balance\"].mean())\n",
    "print(\"The average Balance of a Single person is \", df[df.Married == 'No'].loc[:, \"Balance\"].mean())\n",
    "print(\"On Average single people have a higher balance @ 13.493509015134242\")\n",
    "\n",
    "# Highest income in our Dataset\n",
    "print(\"\\nThe Highest income in our dataset is \", df.loc[:, \"Income\"].max())\n",
    "# Lowest income in our Dataset\n",
    "print(\"The Lowest income in our dataset is \", df.loc[:, \"Income\"].min())\n",
    "\n",
    "# The number of cards recorded in our dataset.\n",
    "print(\"\\nThe number of cards recorded in our dataset is \", df.loc[:, \"Cards\"].sum())\n",
    "\n",
    "# Comparing how many males vs females we have information about\n",
    "print(\"\\nThe number of females recorded in our dataset is \", list(df['Gender']).count('Female'))\n",
    "# print(\"\\nThe number of males recorded in our dataset is \", list(df['Gender']).count('Male')) since this line does\n",
    "# not want to print the correct number we will go a different route\n",
    "# print(df.info()) # we will get there are 400 entries\n",
    "males = int(400 - 207)\n",
    "print(f\"Number of males in the Dataset is {males}\")"
   ]
  },
  {
   "cell_type": "code",
   "execution_count": null,
   "id": "50753c57",
   "metadata": {},
   "outputs": [],
   "source": []
  }
 ],
 "metadata": {
  "kernelspec": {
   "display_name": "Python 3 (ipykernel)",
   "language": "python",
   "name": "python3"
  },
  "language_info": {
   "codemirror_mode": {
    "name": "ipython",
    "version": 3
   },
   "file_extension": ".py",
   "mimetype": "text/x-python",
   "name": "python",
   "nbconvert_exporter": "python",
   "pygments_lexer": "ipython3",
   "version": "3.11.1"
  }
 },
 "nbformat": 4,
 "nbformat_minor": 5
}
